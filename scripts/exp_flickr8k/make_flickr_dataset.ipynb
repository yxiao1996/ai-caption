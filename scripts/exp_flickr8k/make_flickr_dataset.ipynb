{
 "cells": [
  {
   "cell_type": "code",
   "execution_count": 1,
   "metadata": {
    "collapsed": true
   },
   "outputs": [],
   "source": [
    "# make flickr8k annotations\n",
    "import pandas as pd\n",
    "import numpy as np\n",
    "import os\n",
    "import cPickle"
   ]
  },
  {
   "cell_type": "code",
   "execution_count": 2,
   "metadata": {
    "collapsed": true
   },
   "outputs": [],
   "source": [
    "flickr_image_path = './data/Flickr8k_Dataset/Flicker8k_Dataset'\n",
    "# flickr_image_path = './data/'\n",
    "annotation_path = './data/Flickr8k.token.txt'\n",
    "annotation_result_path = './data/annotations.pickle'"
   ]
  },
  {
   "cell_type": "code",
   "execution_count": 3,
   "metadata": {},
   "outputs": [
    {
     "name": "stdout",
     "output_type": "stream",
     "text": [
      "['./data/Flickr8k_Dataset/Flicker8k_Dataset/1000268201_693b08cb0e.jpg'\n",
      " './data/Flickr8k_Dataset/Flicker8k_Dataset/1001773457_577c3a7d70.jpg'\n",
      " './data/Flickr8k_Dataset/Flicker8k_Dataset/1002674143_1b742ab4b8.jpg' ...,\n",
      " './data/Flickr8k_Dataset/Flicker8k_Dataset/99679241_adc853a5c0.jpg'\n",
      " './data/Flickr8k_Dataset/Flicker8k_Dataset/997338199_7343367d7f.jpg'\n",
      " './data/Flickr8k_Dataset/Flicker8k_Dataset/997722733_0cb5439472.jpg']\n"
     ]
    }
   ],
   "source": [
    "annotations = pd.read_table(annotation_path, sep='\\t', header=None, names=['image', 'caption'])\n",
    "annotations['image_num'] = annotations['image'].map(lambda x: x.split('#')[1])\n",
    "annotations['image'] = annotations['image'].map(lambda x: os.path.join(flickr_image_path,x.split('#')[0]))\n",
    "\n",
    "unique_images = annotations['image'].unique()\n",
    "image_df = pd.DataFrame({'image':unique_images, 'image_id':range(len(unique_images))})\n",
    "\n",
    "\n",
    "annotations = pd.merge(annotations, image_df)\n",
    "\n",
    "print unique_images"
   ]
  },
  {
   "cell_type": "code",
   "execution_count": 4,
   "metadata": {
    "collapsed": true
   },
   "outputs": [],
   "source": [
    "annotations.to_pickle(annotation_result_path)"
   ]
  },
  {
   "cell_type": "code",
   "execution_count": 4,
   "metadata": {
    "collapsed": true
   },
   "outputs": [],
   "source": [
    "from cnn_util import *"
   ]
  },
  {
   "cell_type": "code",
   "execution_count": 5,
   "metadata": {
    "collapsed": true
   },
   "outputs": [],
   "source": [
    "# use alexnet to extract feature\n",
    "caffenet_model = '/home/xiaoy/caffe/models/bvlc_reference_caffenet/bvlc_reference_caffenet.caffemodel'\n",
    "caffenet_deploy = '/home/xiaoy/caffe/models/bvlc_reference_caffenet/deploy.prototxt'\n",
    "\n",
    "flickr_image_path = './data/Flickr8k_Dataset/Flicker8k_Dataset'\n",
    "feat_path = './data/feats_caffe.npy '"
   ]
  },
  {
   "cell_type": "code",
   "execution_count": 6,
   "metadata": {
    "collapsed": true
   },
   "outputs": [],
   "source": [
    "cnn = CNN(model=caffenet_model, deploy=caffenet_deploy, width=227, height=227)\n"
   ]
  },
  {
   "cell_type": "code",
   "execution_count": null,
   "metadata": {
    "collapsed": true
   },
   "outputs": [],
   "source": [
    "feats = cnn.get_features(unique_images, layers='conv5', layer_sizes=[256,13,13])\n",
    "np.save(feat_path, feats)"
   ]
  },
  {
   "cell_type": "code",
   "execution_count": 8,
   "metadata": {},
   "outputs": [
    {
     "name": "stdout",
     "output_type": "stream",
     "text": [
      "8092\n"
     ]
    }
   ],
   "source": [
    "print len(unique_images)"
   ]
  },
  {
   "cell_type": "code",
   "execution_count": 4,
   "metadata": {
    "collapsed": true
   },
   "outputs": [],
   "source": [
    "import pandas as pd\n",
    "import numpy as np\n",
    "import os\n",
    "import cPickle\n",
    "from cnn_util import *"
   ]
  },
  {
   "cell_type": "code",
   "execution_count": 7,
   "metadata": {
    "collapsed": true
   },
   "outputs": [],
   "source": [
    "caffenet_model = '/home/xiaoy/caffe/models/bvlc_reference_caffenet/bvlc_reference_caffenet.caffemodel'\n",
    "caffenet_deploy = '/home/xiaoy/caffe/models/bvlc_reference_caffenet/deploy.prototxt'\n",
    "\n",
    "feat_test_path = './feats_borg.npy'"
   ]
  },
  {
   "cell_type": "code",
   "execution_count": null,
   "metadata": {
    "collapsed": true
   },
   "outputs": [],
   "source": [
    "# build test feature\n",
    "test_image = ['./data/test_image/bjorn-borg.jpg']\n",
    "cnn_test = CNN(model=caffenet_model, deploy=caffenet_deploy, width=227, height=227)\n",
    "feats_test = cnn_test.get_features(unique_images, layers='conv5', layer_sizes=[256,13,13])\n",
    "np.save(feat_test_path, feats_test)"
   ]
  },
  {
   "cell_type": "code",
   "execution_count": 1,
   "metadata": {
    "collapsed": true
   },
   "outputs": [],
   "source": [
    "# make flickr8k-cn annotations\n",
    "import pandas as pd\n",
    "import numpy as np\n",
    "import os\n",
    "import cPickle"
   ]
  },
  {
   "cell_type": "code",
   "execution_count": 2,
   "metadata": {
    "collapsed": true
   },
   "outputs": [],
   "source": [
    "flickr_image_path = './data/flickr8k-cn/'\n",
    "\n",
    "annotation_path = './data/flickr8k-cn/flickr8kzhc.caption.txt'\n",
    "annotation_result_path = './data/flickr8k-cn/annotations.pickle'"
   ]
  },
  {
   "cell_type": "code",
   "execution_count": 4,
   "metadata": {},
   "outputs": [
    {
     "name": "stdout",
     "output_type": "stream",
     "text": [
      "['./data/flickr8k-cn/667626_18933d713e.jpg'\n",
      " './data/flickr8k-cn/3637013_c675de7705.jpg'\n",
      " './data/flickr8k-cn/10815824_2997e03d76.jpg' ...,\n",
      " './data/flickr8k-cn/3760400645_3ba51d27f9.jpg'\n",
      " './data/flickr8k-cn/3765374230_cb1bbee0cb.jpg'\n",
      " './data/flickr8k-cn/3767841911_6678052eb6.jpg']\n",
      "False\n"
     ]
    }
   ],
   "source": [
    "annotations = pd.read_table(annotation_path, sep=' ', header=None, names=['image', 'caption'])\n",
    "for i in range(len(annotations['image'].values)):\n",
    "    if pd.isnull(annotations['caption'].values[i]) == True:\n",
    "        annotations['caption'].values[i] = 'dummy'\n",
    "\n",
    "annotations['image_num'] = annotations['image'].map(lambda x: x.split('#')[2])\n",
    "annotations['image'] = annotations['image'].map(lambda x: os.path.join(flickr_image_path,x.split('#')[0]))\n",
    "\n",
    "unique_images = annotations['image'].unique()\n",
    "\n",
    "print unique_images\n",
    "# image_df = pd.DataFrame({'image':unique_images, 'image_id':range(len(unique_images))})\n",
    "image_df = pd.DataFrame({'image':unique_images, 'image_name':[x.split('/')[3].split('.')[0] for x in unique_images]})\n",
    "\n",
    "annotations = pd.merge(annotations, image_df)\n",
    "\n",
    "print pd.isnull(annotations['caption'].values[8140])"
   ]
  },
  {
   "cell_type": "code",
   "execution_count": 5,
   "metadata": {
    "collapsed": true
   },
   "outputs": [],
   "source": [
    "annotations.to_pickle(annotation_result_path)"
   ]
  },
  {
   "cell_type": "code",
   "execution_count": null,
   "metadata": {
    "collapsed": true
   },
   "outputs": [],
   "source": []
  }
 ],
 "metadata": {
  "kernelspec": {
   "display_name": "Python 2",
   "language": "python",
   "name": "python2"
  },
  "language_info": {
   "codemirror_mode": {
    "name": "ipython",
    "version": 2
   },
   "file_extension": ".py",
   "mimetype": "text/x-python",
   "name": "python",
   "nbconvert_exporter": "python",
   "pygments_lexer": "ipython2",
   "version": "2.7.12"
  }
 },
 "nbformat": 4,
 "nbformat_minor": 2
}
